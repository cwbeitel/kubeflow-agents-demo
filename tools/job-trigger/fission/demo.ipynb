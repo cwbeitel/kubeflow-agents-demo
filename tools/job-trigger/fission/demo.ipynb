{
 "cells": [
  {
   "cell_type": "markdown",
   "metadata": {},
   "source": [
    "# triggering render jobs"
   ]
  },
  {
   "cell_type": "markdown",
   "metadata": {},
   "source": [
    "Start by running $WORKSPACE/tools/fission/reset-fission-proxies before launching the notebook server."
   ]
  },
  {
   "cell_type": "markdown",
   "metadata": {},
   "source": [
    "#### (Re)deploy function and trigger"
   ]
  },
  {
   "cell_type": "code",
   "execution_count": 9,
   "metadata": {},
   "outputs": [
    {
     "name": "stdout",
     "output_type": "stream",
     "text": [
      "function 'job-trigger-render' deleted\n",
      "trigger 'ebd9b767-1fc0-4428-b5cd-d8343019a6b5' deleted\n",
      "function 'job-trigger-render' created\n",
      "trigger '46ef36d4-12b0-412e-9456-9175b6619a42' created\n"
     ]
    }
   ],
   "source": [
    "%%bash\n",
    "sh deploy.sh"
   ]
  },
  {
   "cell_type": "markdown",
   "metadata": {},
   "source": [
    "#### Update and trigger function"
   ]
  },
  {
   "cell_type": "code",
   "execution_count": 64,
   "metadata": {},
   "outputs": [
    {
     "name": "stdout",
     "output_type": "stream",
     "text": [
      "function 'job-trigger-render' updated\n",
      "{'api_version': 'batch/v1',\n",
      " 'kind': 'Job',\n",
      " 'metadata': {'annotations': None,\n",
      "              'cluster_name': None,\n",
      "              'creation_timestamp': datetime.datetime(2018, 1, 22, 17, 40, 9, tzinfo=tzlocal()),\n",
      "              'deletion_grace_period_seconds': None,\n",
      "              'deletion_timestamp': None,\n",
      "              'finalizers': None,\n",
      "              'generate_name': None,\n",
      "              'generation': None,\n",
      "              'initializers': None,\n",
      "              'labels': {'controller-uid': '4a8c23c4-ff9b-11e7-b604-42010af00218',\n",
      "                         'job-name': 'pybullet-kuka-ff-0118-2346-bac2-render-cf11f2dc'},\n",
      "              'name': 'pybullet-kuka-ff-0118-2346-bac2-render-cf11f2dc',\n",
      "              'namespace': 'rl',\n",
      "              'owner_references': None,\n",
      "              'resource_version': '1780363',\n",
      "              'self_link': '/apis/batch/v1/namespaces/rl/jobs/pybullet-kuka-ff-0118-2346-bac2-render-cf11f2dc',\n",
      "              'uid': '4a8c23c4-ff9b-11e7-b604-42010af00218'},\n",
      " 'spec': {'active_deadline_seconds': None,\n",
      "          'backoff_limit': 6,\n",
      "          'completions': 1,\n",
      "          'manual_selector': None,\n",
      "          'parallelism': 1,\n",
      "          'selector': {'match_expressions': None,\n",
      "                       'match_labels': {'controller-uid': '4a8c23c4-ff9b-11e7-b604-42010af00218'}},\n",
      "          'template': {'metadata': {'annotations': None,\n",
      "                                    'cluster_name': None,\n",
      "                                    'creation_timestamp': None,\n",
      "                                    'deletion_grace_period_seconds': None,\n",
      "                                    'deletion_timestamp': None,\n",
      "                                    'finalizers': None,\n",
      "                                    'generate_name': None,\n",
      "                                    'generation': None,\n",
      "                                    'initializers': None,\n",
      "                                    'labels': {'controller-uid': '4a8c23c4-ff9b-11e7-b604-42010af00218',\n",
      "                                               'job-name': 'pybullet-kuka-ff-0118-2346-bac2-render-cf11f2dc'},\n",
      "                                    'name': 'pybullet-kuka-ff-0118-2346-bac2-render-cf11f2dc',\n",
      "                                    'namespace': None,\n",
      "                                    'owner_references': None,\n",
      "                                    'resource_version': None,\n",
      "                                    'self_link': None,\n",
      "                                    'uid': None},\n",
      "                       'spec': {'active_deadline_seconds': None,\n",
      "                                'affinity': None,\n",
      "                                'automount_service_account_token': None,\n",
      "                                'containers': [{'args': ['--logdir',\n",
      "                                                         'gs://kubeflow-rl-kf/jobs/pybullet-kuka-ff-0118-2346-bac2',\n",
      "                                                         '--run_mode=render'],\n",
      "                                                'command': None,\n",
      "                                                'env': None,\n",
      "                                                'env_from': None,\n",
      "                                                'image': 'gcr.io/kubeflow-rl/agents-ppo:cpu-7c6c4340',\n",
      "                                                'image_pull_policy': 'IfNotPresent',\n",
      "                                                'lifecycle': None,\n",
      "                                                'liveness_probe': None,\n",
      "                                                'name': 'pybullet-kuka-ff-0118-2346-bac2-render-cf11f2dc',\n",
      "                                                'ports': None,\n",
      "                                                'readiness_probe': None,\n",
      "                                                'resources': {'limits': None,\n",
      "                                                              'requests': None},\n",
      "                                                'security_context': None,\n",
      "                                                'stdin': None,\n",
      "                                                'stdin_once': None,\n",
      "                                                'termination_message_path': '/dev/termination-log',\n",
      "                                                'termination_message_policy': 'File',\n",
      "                                                'tty': None,\n",
      "                                                'volume_mounts': None,\n",
      "                                                'working_dir': None}],\n",
      "                                'dns_policy': 'ClusterFirst',\n",
      "                                'host_aliases': None,\n",
      "                                'host_ipc': None,\n",
      "                                'host_network': None,\n",
      "                                'host_pid': None,\n",
      "                                'hostname': None,\n",
      "                                'image_pull_secrets': None,\n",
      "                                'init_containers': None,\n",
      "                                'node_name': None,\n",
      "                                'node_selector': None,\n",
      "                                'priority': None,\n",
      "                                'priority_class_name': None,\n",
      "                                'restart_policy': 'Never',\n",
      "                                'scheduler_name': 'default-scheduler',\n",
      "                                'security_context': {'fs_group': None,\n",
      "                                                     'run_as_non_root': None,\n",
      "                                                     'run_as_user': None,\n",
      "                                                     'se_linux_options': None,\n",
      "                                                     'supplemental_groups': None},\n",
      "                                'service_account': None,\n",
      "                                'service_account_name': None,\n",
      "                                'subdomain': None,\n",
      "                                'termination_grace_period_seconds': 30,\n",
      "                                'tolerations': None,\n",
      "                                'volumes': None}}},\n",
      " 'status': {'active': None,\n",
      "            'completion_time': None,\n",
      "            'conditions': None,\n",
      "            'failed': None,\n",
      "            'start_time': None,\n",
      "            'succeeded': None}}"
     ]
    },
    {
     "name": "stderr",
     "output_type": "stream",
     "text": [
      "  % Total    % Received % Xferd  Average Speed   Time    Time     Time  Current\n",
      "                                 Dload  Upload   Total   Spent    Left  Speed\n",
      "\r",
      "  0     0    0     0    0     0      0      0 --:--:-- --:--:-- --:--:--     0\r",
      "100  6203  100  6113  100    90  19802    291 --:--:-- --:--:-- --:--:-- 19847\n"
     ]
    }
   ],
   "source": [
    "%%bash\n",
    "sh dev.sh"
   ]
  },
  {
   "cell_type": "code",
   "execution_count": 72,
   "metadata": {},
   "outputs": [
    {
     "name": "stdout",
     "output_type": "stream",
     "text": [
      "NAME                                                    READY     STATUS    RESTARTS   AGE\n",
      "pybullet-kuka-ff-0118-2346-bac2-render-cf11f2dc-vg8rc   1/1       Running   0          28s\n"
     ]
    }
   ],
   "source": [
    "%%bash\n",
    "kubectl get pods -n rl"
   ]
  },
  {
   "cell_type": "code",
   "execution_count": 95,
   "metadata": {
    "scrolled": false
   },
   "outputs": [
    {
     "name": "stdout",
     "output_type": "stream",
     "text": [
      "INFO:tensorflow:Resume run and write summaries and checkpoints to gs://kubeflow-rl-kf/jobs/pybullet-kuka-ff-0118-2346-bac2.\n",
      "INFO:tensorflow:Resume run and write summaries and checkpoints to gs://kubeflow-rl-kf/jobs/pybullet-kuka-ff-0118-2346-bac2.\n",
      "{'algorithm': <class 'agents.ppo.algorithm.PPOAlgorithm'>,\n",
      " 'discount': 0.995,\n",
      " 'env': 'KukaBulletEnv-v0',\n",
      " 'eval_episodes': 25,\n",
      " 'init_logstd': -1,\n",
      " 'init_mean_factor': 0.1,\n",
      " 'kl_cutoff_coef': 1000,\n",
      " 'kl_cutoff_factor': 2,\n",
      " 'kl_init_penalty': 1,\n",
      " 'kl_target': 0.01,\n",
      " 'learning_rate': 0.0001,\n",
      " 'logdir': 'gs://kubeflow-rl-kf/jobs/pybullet-kuka-ff-0118-2346-bac2',\n",
      " 'max_length': 1000,\n",
      " 'network': <function feed_forward_gaussian at 0x7f0afc908b18>,\n",
      " 'num_agents': 30,\n",
      " 'optimizer': <class 'tensorflow.python.training.adam.AdamOptimizer'>,\n",
      " 'optimizer_pre_initialize': True,\n",
      " 'policy_layers': (200, 100),\n",
      " 'steps': 40000000.0,\n",
      " 'update_epochs': 25,\n",
      " 'update_every': 30,\n",
      " 'use_gpu': False,\n",
      " 'value_layers': (200, 100),\n",
      " 'weight_summaries': {'all': '.*',\n",
      "                      'policy': '.*/policy/.*',\n",
      "                      'value': '.*/value/.*'}}\n",
      "INFO:tensorflow:Graph contains 44607 trainable variables.\n",
      "2018-01-22 17:40:19.794330: I tensorflow/core/platform/cpu_feature_guard.cc:137] Your CPU supports instructions that this TensorFlow binary was not compiled to use: SSE4.1 SSE4.2 AVX AVX2 FMA\n",
      "INFO:tensorflow:Restoring parameters from gs://kubeflow-rl-kf/jobs/pybullet-kuka-ff-0118-2346-bac2/model.ckpt-73150020\n",
      "INFO:tensorflow:\n",
      "--------------------------------------------------\n",
      "Phase eval (phase step 0, global step 0).\n",
      "pybullet build time: Jan 18 2018 17:23:14\n",
      "current_dir=/usr/local/lib/python2.7/dist-packages/pybullet_envs/bullet\n",
      "current_dir=/usr/local/lib/python2.7/dist-packages/pybullet_envs/bullet\n",
      "['openaigym.video.0.46.video000004.meta.json', 'openaigym.video.0.46.video000002.meta.json', 'openaigym.video.0.46.video000005.meta.json', 'openaigym.video.0.46.video000002.mp4', 'openaigym.video.0.46.video000000.mp4', 'openaigym.video.0.46.video000006.mp4', 'openaigym.video.0.46.video000005.mp4', 'openaigym.video.0.46.video000000.meta.json', 'openaigym.manifest.0.46.manifest.json', 'openaigym.video.0.46.video000001.meta.json', 'openaigym.video.0.46.video000001.mp4', 'openaigym.video.0.46.video000004.mp4', 'openaigym.episode_batch.0.46.stats.json', 'openaigym.video.0.46.video000003.meta.json', 'openaigym.video.0.46.video000003.mp4', 'openaigym.video.0.46.video000006.meta.json']\n",
      "jobs/pybullet-kuka-ff-0118-2346-bac2/render/\n"
     ]
    }
   ],
   "source": [
    "%%bash\n",
    "kubectl logs pybullet-kuka-ff-0118-2346-bac2-render-cf11f2dc-vg8rc -n rl"
   ]
  },
  {
   "cell_type": "code",
   "execution_count": 96,
   "metadata": {},
   "outputs": [
    {
     "name": "stdout",
     "output_type": "stream",
     "text": [
      "gs://kubeflow-rl-kf/jobs/pybullet-kuka-ff-0118-2346-bac2/render/openaigym.episode_batch.0.46.stats.json\n",
      "gs://kubeflow-rl-kf/jobs/pybullet-kuka-ff-0118-2346-bac2/render/openaigym.manifest.0.46.manifest.json\n",
      "gs://kubeflow-rl-kf/jobs/pybullet-kuka-ff-0118-2346-bac2/render/openaigym.video.0.46.video000000.meta.json\n",
      "gs://kubeflow-rl-kf/jobs/pybullet-kuka-ff-0118-2346-bac2/render/openaigym.video.0.46.video000000.mp4\n",
      "gs://kubeflow-rl-kf/jobs/pybullet-kuka-ff-0118-2346-bac2/render/openaigym.video.0.46.video000001.meta.json\n",
      "gs://kubeflow-rl-kf/jobs/pybullet-kuka-ff-0118-2346-bac2/render/openaigym.video.0.46.video000001.mp4\n",
      "gs://kubeflow-rl-kf/jobs/pybullet-kuka-ff-0118-2346-bac2/render/openaigym.video.0.46.video000002.meta.json\n",
      "gs://kubeflow-rl-kf/jobs/pybullet-kuka-ff-0118-2346-bac2/render/openaigym.video.0.46.video000002.mp4\n",
      "gs://kubeflow-rl-kf/jobs/pybullet-kuka-ff-0118-2346-bac2/render/openaigym.video.0.46.video000003.meta.json\n",
      "gs://kubeflow-rl-kf/jobs/pybullet-kuka-ff-0118-2346-bac2/render/openaigym.video.0.46.video000003.mp4\n",
      "gs://kubeflow-rl-kf/jobs/pybullet-kuka-ff-0118-2346-bac2/render/openaigym.video.0.46.video000004.meta.json\n",
      "gs://kubeflow-rl-kf/jobs/pybullet-kuka-ff-0118-2346-bac2/render/openaigym.video.0.46.video000004.mp4\n",
      "gs://kubeflow-rl-kf/jobs/pybullet-kuka-ff-0118-2346-bac2/render/openaigym.video.0.46.video000005.meta.json\n",
      "gs://kubeflow-rl-kf/jobs/pybullet-kuka-ff-0118-2346-bac2/render/openaigym.video.0.46.video000005.mp4\n",
      "gs://kubeflow-rl-kf/jobs/pybullet-kuka-ff-0118-2346-bac2/render/openaigym.video.0.46.video000006.meta.json\n",
      "gs://kubeflow-rl-kf/jobs/pybullet-kuka-ff-0118-2346-bac2/render/openaigym.video.0.46.video000006.mp4\n"
     ]
    }
   ],
   "source": [
    "%%bash\n",
    "gsutil ls gs://kubeflow-rl-kf/jobs/pybullet-kuka-ff-0118-2346-bac2/render"
   ]
  },
  {
   "cell_type": "markdown",
   "metadata": {},
   "source": [
    "Create a job on kubeflow showing display of job trigger request every N seconds (not submitted)."
   ]
  },
  {
   "cell_type": "code",
   "execution_count": 98,
   "metadata": {},
   "outputs": [
    {
     "name": "stderr",
     "output_type": "stream",
     "text": [
      "Parameter 'env' successfully set to '\"KukaBulletEnv-v0\"' for component 'agents-ppo'\n",
      "Parameter 'run_mode' successfully set to '\"train\"' for component 'agents-ppo'\n",
      "Parameter 'gcp_project' successfully set to '\"kubeflow-rl\"' for component 'agents-ppo'\n",
      "Parameter 'num_cpu' successfully set to '1' for component 'agents-ppo'\n",
      "Parameter 'num_agents' successfully set to '1' for component 'agents-ppo'\n",
      "Parameter 'sync_replicas' successfully set to '\"False\"' for component 'agents-ppo'\n",
      "Parameter 'steps' successfully set to '1000' for component 'agents-ppo'\n",
      "Parameter 'render_secs' successfully set to '10' for component 'agents-ppo'\n",
      "Parameter 'algorithm' successfully set to '\"agents.ppo.PPOAlgorithm\"' for component 'agents-ppo'\n",
      "Parameter 'network' successfully set to '\"agents.scripts.networks.feed_forward_gaussian\"' for component 'agents-ppo'\n",
      "Parameter 'job_tag' successfully set to '\"e456acf9\"' for component 'agents-ppo'\n",
      "Parameter 'logdir' successfully set to '\"gs://kubeflow-rl-kf/jobs/kuka-e456acf9\"' for component 'agents-ppo'\n",
      "Parameter 'name' successfully set to '\"kuka-e456acf9\"' for component 'agents-ppo'\n",
      "Parameter 'image' successfully set to '\"gcr.io/kubeflow-rl/agents-ppo:cpu-df1d364a\"' for component 'agents-ppo'\n",
      "Updating tfjobs rl.kuka-e456acf9\n",
      "Creating non-existent tfjobs rl.kuka-e456acf9\n"
     ]
    }
   ],
   "source": [
    "%%bash\n",
    "\n",
    "get_project_id() {\n",
    "  project=$(gcloud config get-value project 2> /dev/null)\n",
    "  if [[ -z \"$project\" ]]; then\n",
    "      >&2 echo \"Couldn't load a gcloud project ID!\"\n",
    "  fi\n",
    "  echo \"$project\"\n",
    "}\n",
    "\n",
    "cd ../../../rl-app\n",
    "\n",
    "\n",
    "HPARAM_ID=kuka\n",
    "\n",
    "JOB_SALT=`date | shasum -a 256 | cut -c1-8`\n",
    "JOB_NAME=`echo ${HPARAM_ID}-${JOB_SALT} | tr '_' '-'`\n",
    "LOG_DIR=gs://$(get_project_id)-kf/jobs/${JOB_NAME}\n",
    "\n",
    "# 1.4.1, agents propper, MTS, periodic render messages\n",
    "IMAGE=gcr.io/kubeflow-rl/agents-ppo:cpu-df1d364a\n",
    "\n",
    "ks param set agents-ppo env \"KukaBulletEnv-v0\"\n",
    "\n",
    "ks param set agents-ppo run_mode train\n",
    "ks param set agents-ppo gcp_project kubeflow-rl\n",
    "ks param set agents-ppo num_cpu 1\n",
    "ks param set agents-ppo num_agents 1\n",
    "ks param set agents-ppo sync_replicas False\n",
    "ks param set agents-ppo steps 1000\n",
    "\n",
    "# Trigger an async render job every 10 seconds (for demo)\n",
    "ks param set agents-ppo render_secs 10\n",
    "\n",
    "ks param set agents-ppo algorithm \"agents.ppo.PPOAlgorithm\"\n",
    "ks param set agents-ppo network \"agents.scripts.networks.feed_forward_gaussian\"\n",
    "\n",
    "ks param set agents-ppo job_tag ${JOB_SALT}\n",
    "ks param set agents-ppo logdir ${LOG_DIR}\n",
    "ks param set agents-ppo name ${JOB_NAME}\n",
    "ks param set agents-ppo image ${IMAGE}\n",
    "\n",
    "ks apply gke -c agents-ppo"
   ]
  },
  {
   "cell_type": "code",
   "execution_count": 103,
   "metadata": {},
   "outputs": [
    {
     "name": "stdout",
     "output_type": "stream",
     "text": [
      "NAME                                READY     STATUS    RESTARTS   AGE\n",
      "kuka-e456acf9-master-dsse-0-95xzd   1/1       Running   0          20s\n"
     ]
    }
   ],
   "source": [
    "%%bash\n",
    "kubectl get pods -n rl"
   ]
  },
  {
   "cell_type": "markdown",
   "metadata": {},
   "source": [
    "Note that in the following elasped time increments by render_secs"
   ]
  },
  {
   "cell_type": "code",
   "execution_count": 117,
   "metadata": {},
   "outputs": [
    {
     "name": "stdout",
     "output_type": "stream",
     "text": [
      "INFO:tensorflow:Start a new run and write summaries and checkpoints to gs://kubeflow-rl-kf/jobs/kuka-e456acf9.\n",
      "2018-01-22 22:44:40.459919: I tensorflow/core/platform/cpu_feature_guard.cc:137] Your CPU supports instructions that this TensorFlow binary was not compiled to use: SSE4.1 SSE4.2 AVX AVX2 FMA\n",
      "E0122 22:44:40.550151431       1 ev_epoll1_linux.c:1051]     grpc epoll fd: 3\n",
      "2018-01-22 22:44:40.558247: I tensorflow/core/distributed_runtime/rpc/grpc_channel.cc:215] Initialize GrpcChannelCache for job master -> {0 -> localhost:2222}\n",
      "2018-01-22 22:44:40.561891: I tensorflow/core/distributed_runtime/rpc/grpc_server_lib.cc:324] Started server with target: grpc://localhost:2222\n",
      "{'algorithm': <class 'agents.ppo.algorithm.PPOAlgorithm'>,\n",
      " 'debug': True,\n",
      " 'discount': 0.995,\n",
      " 'dump_dependency_versions': False,\n",
      " 'env': 'KukaBulletEnv-v0',\n",
      " 'env_processes': True,\n",
      " 'eval_episodes': 25,\n",
      " 'hparam_set_id': 'pybullet_kuka_ff',\n",
      " 'init_logstd': -1,\n",
      " 'init_mean_factor': 0.1,\n",
      " 'kl_cutoff_coef': 1000,\n",
      " 'kl_cutoff_factor': 2,\n",
      " 'kl_init_penalty': 1,\n",
      " 'kl_target': 0.01,\n",
      " 'learning_rate': 0.0001,\n",
      " 'log_device_placement': False,\n",
      " 'logdir': 'gs://kubeflow-rl-kf/jobs/kuka-e456acf9',\n",
      " 'max_length': 1000,\n",
      " 'network': <function feed_forward_gaussian at 0x7f2114932b18>,\n",
      " 'num_agents': 1,\n",
      " 'num_gpus': 0,\n",
      " 'optimizer': <class 'tensorflow.python.training.adam.AdamOptimizer'>,\n",
      " 'policy_layers': (200, 100),\n",
      " 'render_secs': 10,\n",
      " 'run_base_tag': '0e90193e',\n",
      " 'run_mode': 'train',\n",
      " 'save_checkpoint_secs': 600,\n",
      " 'steps': 1000,\n",
      " 'sync_replicas': False,\n",
      " 'update_epochs': 25,\n",
      " 'update_every': 30,\n",
      " 'use_gpu': False,\n",
      " 'use_monitored_training_session': True,\n",
      " 'value_layers': (200, 100),\n",
      " 'weight_summaries': {'all': '.*',\n",
      "                      'policy': '.*/policy/.*',\n",
      "                      'value': '.*/value/.*'}}\n",
      "INFO:tensorflow:Graph contains 44607 trainable variables.\n",
      "INFO:tensorflow:Create CheckpointSaverHook.\n",
      "2018-01-22 22:44:55.845129: I tensorflow/core/distributed_runtime/master_session.cc:1004] Start master session ffab7958471e8adb with config: gpu_options { allow_growth: true } allow_soft_placement: true\n",
      "INFO:tensorflow:Saving checkpoints for 0 into gs://kubeflow-rl-kf/jobs/kuka-e456acf9/model.ckpt.\n",
      "INFO:tensorflow:\n",
      "--------------------------------------------------\n",
      "Phase train (phase step 0, global step 0).\n",
      "INFO:tensorflow:Triggering render number 1.\n",
      "INFO:tensorflow:Render trigger manifest: {'args': {'render_count': 1, 'meta': {'elapsed_time': 10.006209135055542, 'global_step': 699}, 'log_dir': 'gs://kubeflow-rl-kf/jobs/kuka-e456acf9'}, 'job_type': 'render'}\n",
      "INFO:tensorflow:Triggering render number 2.\n",
      "INFO:tensorflow:Render trigger manifest: {'args': {'render_count': 2, 'meta': {'elapsed_time': 20.00917911529541, 'global_step': 1480}, 'log_dir': 'gs://kubeflow-rl-kf/jobs/kuka-e456acf9'}, 'job_type': 'render'}\n",
      "INFO:tensorflow:Saving checkpoints for 1833 into gs://kubeflow-rl-kf/jobs/kuka-e456acf9/model.ckpt.\n",
      "INFO:tensorflow:Run complete, closing batch environments.\n",
      "pybullet build time: Jan 18 2018 17:23:14\n",
      "current_dir=/usr/local/lib/python2.7/dist-packages/pybullet_envs/bullet\n",
      "current_dir=/usr/local/lib/python2.7/dist-packages/pybullet_envs/bullet\n"
     ]
    }
   ],
   "source": [
    "%%bash\n",
    "kubectl logs kuka-e456acf9-master-dsse-0-95xzd -n rl"
   ]
  },
  {
   "cell_type": "code",
   "execution_count": 63,
   "metadata": {},
   "outputs": [
    {
     "name": "stdout",
     "output_type": "stream",
     "text": [
      "job \"pybullet-kuka-ff-0118-2346-bac2-render-69b136bb\" deleted\n",
      "job \"pybullet-kuka-ff-0118-2346-bac2-render-9fe7548f\" deleted\n"
     ]
    }
   ],
   "source": [
    "%%bash\n",
    "kubectl delete jobs --all -n rl "
   ]
  },
  {
   "cell_type": "markdown",
   "metadata": {},
   "source": [
    "### Status:\n",
    "- Currently finishes without error but renders do not arrive on cloud storage.\n",
    "- Should be rendering to /tmp then uploading render when complete"
   ]
  }
 ],
 "metadata": {
  "kernelspec": {
   "display_name": "Python 2",
   "language": "python",
   "name": "python2"
  },
  "language_info": {
   "codemirror_mode": {
    "name": "ipython",
    "version": 2
   },
   "file_extension": ".py",
   "mimetype": "text/x-python",
   "name": "python",
   "nbconvert_exporter": "python",
   "pygments_lexer": "ipython2",
   "version": "2.7.14"
  }
 },
 "nbformat": 4,
 "nbformat_minor": 2
}
