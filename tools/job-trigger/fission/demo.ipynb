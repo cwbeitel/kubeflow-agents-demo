{
 "cells": [
  {
   "cell_type": "markdown",
   "metadata": {},
   "source": [
    "# job trigger"
   ]
  },
  {
   "cell_type": "markdown",
   "metadata": {},
   "source": [
    "Start by running $WORKSPACE/tools/fission/reset-fission-proxies before launching the notebook server."
   ]
  },
  {
   "cell_type": "markdown",
   "metadata": {},
   "source": [
    "#### (Re)deploy function and trigger"
   ]
  },
  {
   "cell_type": "code",
   "execution_count": 9,
   "metadata": {},
   "outputs": [
    {
     "name": "stdout",
     "output_type": "stream",
     "text": [
      "function 'job-trigger-render' deleted\n",
      "trigger 'ebd9b767-1fc0-4428-b5cd-d8343019a6b5' deleted\n",
      "function 'job-trigger-render' created\n",
      "trigger '46ef36d4-12b0-412e-9456-9175b6619a42' created\n"
     ]
    }
   ],
   "source": [
    "%%bash\n",
    "sh deploy.sh"
   ]
  },
  {
   "cell_type": "markdown",
   "metadata": {},
   "source": [
    "#### Update and trigger function"
   ]
  },
  {
   "cell_type": "code",
   "execution_count": 11,
   "metadata": {},
   "outputs": [
    {
     "name": "stdout",
     "output_type": "stream",
     "text": [
      "function 'job-trigger-render' updated\n",
      "{'api_version': 'batch/v1',\n",
      " 'kind': 'Job',\n",
      " 'metadata': {'annotations': None,\n",
      "              'cluster_name': None,\n",
      "              'creation_timestamp': datetime.datetime(2018, 1, 22, 16, 30, 12, tzinfo=tzlocal()),\n",
      "              'deletion_grace_period_seconds': None,\n",
      "              'deletion_timestamp': None,\n",
      "              'finalizers': None,\n",
      "              'generate_name': None,\n",
      "              'generation': None,\n",
      "              'initializers': None,\n",
      "              'labels': {'controller-uid': '84d0f09c-ff91-11e7-b604-42010af00218',\n",
      "                         'job-name': 'kuka-old-train-py-87b83cb0-render-e76bf772'},\n",
      "              'name': 'kuka-old-train-py-87b83cb0-render-e76bf772',\n",
      "              'namespace': 'rl',\n",
      "              'owner_references': None,\n",
      "              'resource_version': '1770466',\n",
      "              'self_link': '/apis/batch/v1/namespaces/rl/jobs/kuka-old-train-py-87b83cb0-render-e76bf772',\n",
      "              'uid': '84d0f09c-ff91-11e7-b604-42010af00218'},\n",
      " 'spec': {'active_deadline_seconds': None,\n",
      "          'backoff_limit': 6,\n",
      "          'completions': 1,\n",
      "          'manual_selector': None,\n",
      "          'parallelism': 1,\n",
      "          'selector': {'match_expressions': None,\n",
      "                       'match_labels': {'controller-uid': '84d0f09c-ff91-11e7-b604-42010af00218'}},\n",
      "          'template': {'metadata': {'annotations': None,\n",
      "                                    'cluster_name': None,\n",
      "                                    'creation_timestamp': None,\n",
      "                                    'deletion_grace_period_seconds': None,\n",
      "                                    'deletion_timestamp': None,\n",
      "                                    'finalizers': None,\n",
      "                                    'generate_name': None,\n",
      "                                    'generation': None,\n",
      "                                    'initializers': None,\n",
      "                                    'labels': {'controller-uid': '84d0f09c-ff91-11e7-b604-42010af00218',\n",
      "                                               'job-name': 'kuka-old-train-py-87b83cb0-render-e76bf772'},\n",
      "                                    'name': 'kuka-old-train-py-87b83cb0-render-e76bf772',\n",
      "                                    'namespace': None,\n",
      "                                    'owner_references': None,\n",
      "                                    'resource_version': None,\n",
      "                                    'self_link': None,\n",
      "                                    'uid': None},\n",
      "                       'spec': {'active_deadline_seconds': None,\n",
      "                                'affinity': None,\n",
      "                                'automount_service_account_token': None,\n",
      "                                'containers': [{'args': ['--logdir',\n",
      "                                                         'gs://kubeflow-rl-kf/jobs/kuka-old-train-py-87b83cb0',\n",
      "                                                         '--run_mode=render'],\n",
      "                                                'command': None,\n",
      "                                                'env': None,\n",
      "                                                'env_from': None,\n",
      "                                                'image': 'gcr.io/kubeflow-rl/agents-ppo:cpu-7bd4bf03',\n",
      "                                                'image_pull_policy': 'IfNotPresent',\n",
      "                                                'lifecycle': None,\n",
      "                                                'liveness_probe': None,\n",
      "                                                'name': 'kuka-old-train-py-87b83cb0-render-e76bf772',\n",
      "                                                'ports': None,\n",
      "                                                'readiness_probe': None,\n",
      "                                                'resources': {'limits': None,\n",
      "                                                              'requests': None},\n",
      "                                                'security_context': None,\n",
      "                                                'stdin': None,\n",
      "                                                'stdin_once': None,\n",
      "                                                'termination_message_path': '/dev/termination-log',\n",
      "                                                'termination_message_policy': 'File',\n",
      "                                                'tty': None,\n",
      "                                                'volume_mounts': None,\n",
      "                                                'working_dir': None}],\n",
      "                                'dns_policy': 'ClusterFirst',\n",
      "                                'host_aliases': None,\n",
      "                                'host_ipc': None,\n",
      "                                'host_network': None,\n",
      "                                'host_pid': None,\n",
      "                                'hostname': None,\n",
      "                                'image_pull_secrets': None,\n",
      "                                'init_containers': None,\n",
      "                                'node_name': None,\n",
      "                                'node_selector': None,\n",
      "                                'priority': None,\n",
      "                                'priority_class_name': None,\n",
      "                                'restart_policy': 'Never',\n",
      "                                'scheduler_name': 'default-scheduler',\n",
      "                                'security_context': {'fs_group': None,\n",
      "                                                     'run_as_non_root': None,\n",
      "                                                     'run_as_user': None,\n",
      "                                                     'se_linux_options': None,\n",
      "                                                     'supplemental_groups': None},\n",
      "                                'service_account': None,\n",
      "                                'service_account_name': None,\n",
      "                                'subdomain': None,\n",
      "                                'termination_grace_period_seconds': 30,\n",
      "                                'tolerations': None,\n",
      "                                'volumes': None}}},\n",
      " 'status': {'active': None,\n",
      "            'completion_time': None,\n",
      "            'conditions': None,\n",
      "            'failed': None,\n",
      "            'start_time': None,\n",
      "            'succeeded': None}}"
     ]
    },
    {
     "name": "stderr",
     "output_type": "stream",
     "text": [
      "  % Total    % Received % Xferd  Average Speed   Time    Time     Time  Current\n",
      "                                 Dload  Upload   Total   Spent    Left  Speed\n",
      "\r",
      "  0     0    0     0    0     0      0      0 --:--:-- --:--:-- --:--:--     0\r",
      "100  6164  100  6079  100    85   7270    101 --:--:-- --:--:-- --:--:--  7262\r",
      "100  6164  100  6079  100    85   7268    101 --:--:-- --:--:-- --:--:--  7262\n"
     ]
    }
   ],
   "source": [
    "%%bash\n",
    "sh dev.sh"
   ]
  },
  {
   "cell_type": "code",
   "execution_count": 12,
   "metadata": {},
   "outputs": [
    {
     "name": "stdout",
     "output_type": "stream",
     "text": [
      "NAME                                               READY     STATUS    RESTARTS   AGE\n",
      "kuka-old-train-py-87b83cb0-render-e76bf772-rnfvm   1/1       Running   0          18s\n"
     ]
    }
   ],
   "source": [
    "%%bash\n",
    "kubectl get pods -n rl"
   ]
  },
  {
   "cell_type": "code",
   "execution_count": 15,
   "metadata": {},
   "outputs": [
    {
     "name": "stdout",
     "output_type": "stream",
     "text": [
      "INFO:tensorflow:Resume run and write summaries and checkpoints to gs://kubeflow-rl-kf/jobs/kuka-old-train-py-87b83cb0.\n",
      "INFO:tensorflow:Resume run and write summaries and checkpoints to gs://kubeflow-rl-kf/jobs/kuka-old-train-py-87b83cb0.\n",
      "{'algorithm': <class 'agents.ppo.algorithm.PPOAlgorithm'>,\n",
      " 'debug': True,\n",
      " 'discount': 0.995,\n",
      " 'dump_dependency_versions': False,\n",
      " 'env': 'KukaBulletEnv-v0',\n",
      " 'env_processes': True,\n",
      " 'eval_episodes': 25,\n",
      " 'hparam_set_id': 'pybullet_kuka_ff',\n",
      " 'init_logstd': -1,\n",
      " 'init_mean_factor': 0.1,\n",
      " 'kl_cutoff_coef': 1000,\n",
      " 'kl_cutoff_factor': 2,\n",
      " 'kl_init_penalty': 1,\n",
      " 'kl_target': 0.01,\n",
      " 'learning_rate': 0.0001,\n",
      " 'log_device_placement': False,\n",
      " 'logdir': 'gs://kubeflow-rl-kf/jobs/kuka-old-train-py-87b83cb0',\n",
      " 'max_length': 1000,\n",
      " 'network': <function feed_forward_gaussian at 0x7f0c4c8b6f50>,\n",
      " 'num_agents': 30,\n",
      " 'num_gpus': 0,\n",
      " 'optimizer': <class 'tensorflow.python.training.adam.AdamOptimizer'>,\n",
      " 'policy_layers': (200, 100),\n",
      " 'run_base_tag': '0e90193e',\n",
      " 'run_mode': 'train',\n",
      " 'save_checkpoint_secs': 600,\n",
      " 'steps': 20000000,\n",
      " 'sync_replicas': False,\n",
      " 'update_epochs': 25,\n",
      " 'update_every': 30,\n",
      " 'use_gpu': False,\n",
      " 'use_monitored_training_session': True,\n",
      " 'value_layers': (200, 100),\n",
      " 'weight_summaries': {'all': '.*',\n",
      "                      'policy': '.*/policy/.*',\n",
      "                      'value': '.*/value/.*'}}\n",
      "INFO:tensorflow:Graph contains 44607 trainable variables.\n",
      "2018-01-22 16:30:20.252360: I tensorflow/core/platform/cpu_feature_guard.cc:137] Your CPU supports instructions that this TensorFlow binary was not compiled to use: SSE4.1 SSE4.2 AVX AVX2 FMA\n",
      "INFO:tensorflow:Restoring parameters from gs://kubeflow-rl-kf/jobs/kuka-old-train-py-87b83cb0/model.ckpt-36300015\n",
      "INFO:tensorflow:\n",
      "--------------------------------------------------\n",
      "Phase eval (phase step 0, global step 0).\n"
     ]
    }
   ],
   "source": [
    "%%bash\n",
    "kubectl logs kuka-old-train-py-87b83cb0-render-e76bf772-rnfvm -n rl"
   ]
  },
  {
   "cell_type": "markdown",
   "metadata": {},
   "source": [
    "### Status:\n",
    "- Currently finishes without error but renders do not arrive on cloud storage.\n",
    "- Should be rendering to /tmp then uploading render when complete"
   ]
  }
 ],
 "metadata": {
  "kernelspec": {
   "display_name": "Python 2",
   "language": "python",
   "name": "python2"
  },
  "language_info": {
   "codemirror_mode": {
    "name": "ipython",
    "version": 2
   },
   "file_extension": ".py",
   "mimetype": "text/x-python",
   "name": "python",
   "nbconvert_exporter": "python",
   "pygments_lexer": "ipython2",
   "version": "2.7.14"
  }
 },
 "nbformat": 4,
 "nbformat_minor": 2
}
