{
 "cells": [
  {
   "cell_type": "markdown",
   "metadata": {},
   "source": [
    "# triggering render jobs"
   ]
  },
  {
   "cell_type": "markdown",
   "metadata": {},
   "source": [
    "### Setup"
   ]
  },
  {
   "cell_type": "markdown",
   "metadata": {},
   "source": [
    "Start by running $WORKSPACE/tools/fission/reset-fission-proxies before launching the notebook server."
   ]
  },
  {
   "cell_type": "code",
   "execution_count": 74,
   "metadata": {},
   "outputs": [],
   "source": [
    "# GCP project to use\n",
    "PROJECT=\"kubeflow-rl\"\n",
    "\n",
    "# Bucket to use\n",
    "BUCKET=PROJECT+\"-kf\"\n",
    "\n",
    "# K8s cluster to use\n",
    "CLUSTER=\"kubeflow-5fc52116\"\n",
    "ZONE=\"us-east1-d\"\n",
    "NAMESPACE=\"rl\"\n",
    "\n",
    "ROOT_DIR = \"/Users/cb/code/dancing-water/kubeflow-rl\""
   ]
  },
  {
   "cell_type": "markdown",
   "metadata": {},
   "source": [
    "#### (Re)deploy function and trigger"
   ]
  },
  {
   "cell_type": "code",
   "execution_count": 9,
   "metadata": {},
   "outputs": [
    {
     "name": "stdout",
     "output_type": "stream",
     "text": [
      "function 'job-trigger-render' deleted\n",
      "trigger 'ebd9b767-1fc0-4428-b5cd-d8343019a6b5' deleted\n",
      "function 'job-trigger-render' created\n",
      "trigger '46ef36d4-12b0-412e-9456-9175b6619a42' created\n"
     ]
    }
   ],
   "source": [
    "%%bash\n",
    "sh deploy.sh"
   ]
  },
  {
   "cell_type": "markdown",
   "metadata": {},
   "source": [
    "#### Update and trigger function"
   ]
  },
  {
   "cell_type": "code",
   "execution_count": 64,
   "metadata": {},
   "outputs": [
    {
     "name": "stdout",
     "output_type": "stream",
     "text": [
      "function 'job-trigger-render' updated\n",
      "{'api_version': 'batch/v1',\n",
      " 'kind': 'Job',\n",
      " 'metadata': {'annotations': None,\n",
      "              'cluster_name': None,\n",
      "              'creation_timestamp': datetime.datetime(2018, 1, 22, 17, 40, 9, tzinfo=tzlocal()),\n",
      "              'deletion_grace_period_seconds': None,\n",
      "              'deletion_timestamp': None,\n",
      "              'finalizers': None,\n",
      "              'generate_name': None,\n",
      "              'generation': None,\n",
      "              'initializers': None,\n",
      "              'labels': {'controller-uid': '4a8c23c4-ff9b-11e7-b604-42010af00218',\n",
      "                         'job-name': 'pybullet-kuka-ff-0118-2346-bac2-render-cf11f2dc'},\n",
      "              'name': 'pybullet-kuka-ff-0118-2346-bac2-render-cf11f2dc',\n",
      "              'namespace': 'rl',\n",
      "              'owner_references': None,\n",
      "              'resource_version': '1780363',\n",
      "              'self_link': '/apis/batch/v1/namespaces/rl/jobs/pybullet-kuka-ff-0118-2346-bac2-render-cf11f2dc',\n",
      "              'uid': '4a8c23c4-ff9b-11e7-b604-42010af00218'},\n",
      " 'spec': {'active_deadline_seconds': None,\n",
      "          'backoff_limit': 6,\n",
      "          'completions': 1,\n",
      "          'manual_selector': None,\n",
      "          'parallelism': 1,\n",
      "          'selector': {'match_expressions': None,\n",
      "                       'match_labels': {'controller-uid': '4a8c23c4-ff9b-11e7-b604-42010af00218'}},\n",
      "          'template': {'metadata': {'annotations': None,\n",
      "                                    'cluster_name': None,\n",
      "                                    'creation_timestamp': None,\n",
      "                                    'deletion_grace_period_seconds': None,\n",
      "                                    'deletion_timestamp': None,\n",
      "                                    'finalizers': None,\n",
      "                                    'generate_name': None,\n",
      "                                    'generation': None,\n",
      "                                    'initializers': None,\n",
      "                                    'labels': {'controller-uid': '4a8c23c4-ff9b-11e7-b604-42010af00218',\n",
      "                                               'job-name': 'pybullet-kuka-ff-0118-2346-bac2-render-cf11f2dc'},\n",
      "                                    'name': 'pybullet-kuka-ff-0118-2346-bac2-render-cf11f2dc',\n",
      "                                    'namespace': None,\n",
      "                                    'owner_references': None,\n",
      "                                    'resource_version': None,\n",
      "                                    'self_link': None,\n",
      "                                    'uid': None},\n",
      "                       'spec': {'active_deadline_seconds': None,\n",
      "                                'affinity': None,\n",
      "                                'automount_service_account_token': None,\n",
      "                                'containers': [{'args': ['--logdir',\n",
      "                                                         'gs://kubeflow-rl-kf/jobs/pybullet-kuka-ff-0118-2346-bac2',\n",
      "                                                         '--run_mode=render'],\n",
      "                                                'command': None,\n",
      "                                                'env': None,\n",
      "                                                'env_from': None,\n",
      "                                                'image': 'gcr.io/kubeflow-rl/agents-ppo:cpu-7c6c4340',\n",
      "                                                'image_pull_policy': 'IfNotPresent',\n",
      "                                                'lifecycle': None,\n",
      "                                                'liveness_probe': None,\n",
      "                                                'name': 'pybullet-kuka-ff-0118-2346-bac2-render-cf11f2dc',\n",
      "                                                'ports': None,\n",
      "                                                'readiness_probe': None,\n",
      "                                                'resources': {'limits': None,\n",
      "                                                              'requests': None},\n",
      "                                                'security_context': None,\n",
      "                                                'stdin': None,\n",
      "                                                'stdin_once': None,\n",
      "                                                'termination_message_path': '/dev/termination-log',\n",
      "                                                'termination_message_policy': 'File',\n",
      "                                                'tty': None,\n",
      "                                                'volume_mounts': None,\n",
      "                                                'working_dir': None}],\n",
      "                                'dns_policy': 'ClusterFirst',\n",
      "                                'host_aliases': None,\n",
      "                                'host_ipc': None,\n",
      "                                'host_network': None,\n",
      "                                'host_pid': None,\n",
      "                                'hostname': None,\n",
      "                                'image_pull_secrets': None,\n",
      "                                'init_containers': None,\n",
      "                                'node_name': None,\n",
      "                                'node_selector': None,\n",
      "                                'priority': None,\n",
      "                                'priority_class_name': None,\n",
      "                                'restart_policy': 'Never',\n",
      "                                'scheduler_name': 'default-scheduler',\n",
      "                                'security_context': {'fs_group': None,\n",
      "                                                     'run_as_non_root': None,\n",
      "                                                     'run_as_user': None,\n",
      "                                                     'se_linux_options': None,\n",
      "                                                     'supplemental_groups': None},\n",
      "                                'service_account': None,\n",
      "                                'service_account_name': None,\n",
      "                                'subdomain': None,\n",
      "                                'termination_grace_period_seconds': 30,\n",
      "                                'tolerations': None,\n",
      "                                'volumes': None}}},\n",
      " 'status': {'active': None,\n",
      "            'completion_time': None,\n",
      "            'conditions': None,\n",
      "            'failed': None,\n",
      "            'start_time': None,\n",
      "            'succeeded': None}}"
     ]
    },
    {
     "name": "stderr",
     "output_type": "stream",
     "text": [
      "  % Total    % Received % Xferd  Average Speed   Time    Time     Time  Current\n",
      "                                 Dload  Upload   Total   Spent    Left  Speed\n",
      "\r",
      "  0     0    0     0    0     0      0      0 --:--:-- --:--:-- --:--:--     0\r",
      "100  6203  100  6113  100    90  19802    291 --:--:-- --:--:-- --:--:-- 19847\n"
     ]
    }
   ],
   "source": [
    "%%bash\n",
    "sh dev.sh"
   ]
  },
  {
   "cell_type": "code",
   "execution_count": 72,
   "metadata": {},
   "outputs": [
    {
     "name": "stdout",
     "output_type": "stream",
     "text": [
      "NAME                                                    READY     STATUS    RESTARTS   AGE\n",
      "pybullet-kuka-ff-0118-2346-bac2-render-cf11f2dc-vg8rc   1/1       Running   0          28s\n"
     ]
    }
   ],
   "source": [
    "%%bash\n",
    "kubectl get pods -n rl"
   ]
  },
  {
   "cell_type": "code",
   "execution_count": 95,
   "metadata": {
    "scrolled": false
   },
   "outputs": [
    {
     "name": "stdout",
     "output_type": "stream",
     "text": [
      "INFO:tensorflow:Resume run and write summaries and checkpoints to gs://kubeflow-rl-kf/jobs/pybullet-kuka-ff-0118-2346-bac2.\n",
      "INFO:tensorflow:Resume run and write summaries and checkpoints to gs://kubeflow-rl-kf/jobs/pybullet-kuka-ff-0118-2346-bac2.\n",
      "{'algorithm': <class 'agents.ppo.algorithm.PPOAlgorithm'>,\n",
      " 'discount': 0.995,\n",
      " 'env': 'KukaBulletEnv-v0',\n",
      " 'eval_episodes': 25,\n",
      " 'init_logstd': -1,\n",
      " 'init_mean_factor': 0.1,\n",
      " 'kl_cutoff_coef': 1000,\n",
      " 'kl_cutoff_factor': 2,\n",
      " 'kl_init_penalty': 1,\n",
      " 'kl_target': 0.01,\n",
      " 'learning_rate': 0.0001,\n",
      " 'logdir': 'gs://kubeflow-rl-kf/jobs/pybullet-kuka-ff-0118-2346-bac2',\n",
      " 'max_length': 1000,\n",
      " 'network': <function feed_forward_gaussian at 0x7f0afc908b18>,\n",
      " 'num_agents': 30,\n",
      " 'optimizer': <class 'tensorflow.python.training.adam.AdamOptimizer'>,\n",
      " 'optimizer_pre_initialize': True,\n",
      " 'policy_layers': (200, 100),\n",
      " 'steps': 40000000.0,\n",
      " 'update_epochs': 25,\n",
      " 'update_every': 30,\n",
      " 'use_gpu': False,\n",
      " 'value_layers': (200, 100),\n",
      " 'weight_summaries': {'all': '.*',\n",
      "                      'policy': '.*/policy/.*',\n",
      "                      'value': '.*/value/.*'}}\n",
      "INFO:tensorflow:Graph contains 44607 trainable variables.\n",
      "2018-01-22 17:40:19.794330: I tensorflow/core/platform/cpu_feature_guard.cc:137] Your CPU supports instructions that this TensorFlow binary was not compiled to use: SSE4.1 SSE4.2 AVX AVX2 FMA\n",
      "INFO:tensorflow:Restoring parameters from gs://kubeflow-rl-kf/jobs/pybullet-kuka-ff-0118-2346-bac2/model.ckpt-73150020\n",
      "INFO:tensorflow:\n",
      "--------------------------------------------------\n",
      "Phase eval (phase step 0, global step 0).\n",
      "pybullet build time: Jan 18 2018 17:23:14\n",
      "current_dir=/usr/local/lib/python2.7/dist-packages/pybullet_envs/bullet\n",
      "current_dir=/usr/local/lib/python2.7/dist-packages/pybullet_envs/bullet\n",
      "['openaigym.video.0.46.video000004.meta.json', 'openaigym.video.0.46.video000002.meta.json', 'openaigym.video.0.46.video000005.meta.json', 'openaigym.video.0.46.video000002.mp4', 'openaigym.video.0.46.video000000.mp4', 'openaigym.video.0.46.video000006.mp4', 'openaigym.video.0.46.video000005.mp4', 'openaigym.video.0.46.video000000.meta.json', 'openaigym.manifest.0.46.manifest.json', 'openaigym.video.0.46.video000001.meta.json', 'openaigym.video.0.46.video000001.mp4', 'openaigym.video.0.46.video000004.mp4', 'openaigym.episode_batch.0.46.stats.json', 'openaigym.video.0.46.video000003.meta.json', 'openaigym.video.0.46.video000003.mp4', 'openaigym.video.0.46.video000006.meta.json']\n",
      "jobs/pybullet-kuka-ff-0118-2346-bac2/render/\n"
     ]
    }
   ],
   "source": [
    "%%bash\n",
    "kubectl logs pybullet-kuka-ff-0118-2346-bac2-render-cf11f2dc-vg8rc -n rl"
   ]
  },
  {
   "cell_type": "code",
   "execution_count": 96,
   "metadata": {},
   "outputs": [
    {
     "name": "stdout",
     "output_type": "stream",
     "text": [
      "gs://kubeflow-rl-kf/jobs/pybullet-kuka-ff-0118-2346-bac2/render/openaigym.episode_batch.0.46.stats.json\n",
      "gs://kubeflow-rl-kf/jobs/pybullet-kuka-ff-0118-2346-bac2/render/openaigym.manifest.0.46.manifest.json\n",
      "gs://kubeflow-rl-kf/jobs/pybullet-kuka-ff-0118-2346-bac2/render/openaigym.video.0.46.video000000.meta.json\n",
      "gs://kubeflow-rl-kf/jobs/pybullet-kuka-ff-0118-2346-bac2/render/openaigym.video.0.46.video000000.mp4\n",
      "gs://kubeflow-rl-kf/jobs/pybullet-kuka-ff-0118-2346-bac2/render/openaigym.video.0.46.video000001.meta.json\n",
      "gs://kubeflow-rl-kf/jobs/pybullet-kuka-ff-0118-2346-bac2/render/openaigym.video.0.46.video000001.mp4\n",
      "gs://kubeflow-rl-kf/jobs/pybullet-kuka-ff-0118-2346-bac2/render/openaigym.video.0.46.video000002.meta.json\n",
      "gs://kubeflow-rl-kf/jobs/pybullet-kuka-ff-0118-2346-bac2/render/openaigym.video.0.46.video000002.mp4\n",
      "gs://kubeflow-rl-kf/jobs/pybullet-kuka-ff-0118-2346-bac2/render/openaigym.video.0.46.video000003.meta.json\n",
      "gs://kubeflow-rl-kf/jobs/pybullet-kuka-ff-0118-2346-bac2/render/openaigym.video.0.46.video000003.mp4\n",
      "gs://kubeflow-rl-kf/jobs/pybullet-kuka-ff-0118-2346-bac2/render/openaigym.video.0.46.video000004.meta.json\n",
      "gs://kubeflow-rl-kf/jobs/pybullet-kuka-ff-0118-2346-bac2/render/openaigym.video.0.46.video000004.mp4\n",
      "gs://kubeflow-rl-kf/jobs/pybullet-kuka-ff-0118-2346-bac2/render/openaigym.video.0.46.video000005.meta.json\n",
      "gs://kubeflow-rl-kf/jobs/pybullet-kuka-ff-0118-2346-bac2/render/openaigym.video.0.46.video000005.mp4\n",
      "gs://kubeflow-rl-kf/jobs/pybullet-kuka-ff-0118-2346-bac2/render/openaigym.video.0.46.video000006.meta.json\n",
      "gs://kubeflow-rl-kf/jobs/pybullet-kuka-ff-0118-2346-bac2/render/openaigym.video.0.46.video000006.mp4\n"
     ]
    }
   ],
   "source": [
    "%%bash\n",
    "gsutil ls gs://kubeflow-rl-kf/jobs/pybullet-kuka-ff-0118-2346-bac2/render"
   ]
  },
  {
   "cell_type": "markdown",
   "metadata": {},
   "source": [
    "Get the cluster-internal IP of the Fission router pod"
   ]
  },
  {
   "cell_type": "code",
   "execution_count": 191,
   "metadata": {},
   "outputs": [
    {
     "name": "stdout",
     "output_type": "stream",
     "text": [
      "10.28.0.98\r\n"
     ]
    }
   ],
   "source": [
    "!kubectl -n fission get pod -o wide|grep router | sed -E 's/[[:space:]]+/ /g' | cut -f6 -d' '"
   ]
  },
  {
   "cell_type": "markdown",
   "metadata": {},
   "source": [
    "Create a job on kubeflow showing display of job trigger request every N seconds (not submitted)."
   ]
  },
  {
   "cell_type": "code",
   "execution_count": 186,
   "metadata": {},
   "outputs": [
    {
     "name": "stderr",
     "output_type": "stream",
     "text": [
      "Parameter 'env' successfully set to '\"KukaBulletEnv-v0\"' for component 'agents-ppo'\n",
      "Parameter 'run_mode' successfully set to '\"train\"' for component 'agents-ppo'\n",
      "Parameter 'gcp_project' successfully set to '\"kubeflow-rl\"' for component 'agents-ppo'\n",
      "Parameter 'num_cpu' successfully set to '1' for component 'agents-ppo'\n",
      "Parameter 'num_agents' successfully set to '1' for component 'agents-ppo'\n",
      "Parameter 'sync_replicas' successfully set to '\"False\"' for component 'agents-ppo'\n",
      "Parameter 'steps' successfully set to '1000' for component 'agents-ppo'\n",
      "Parameter 'render_secs' successfully set to '10' for component 'agents-ppo'\n",
      "Parameter 'fission_router_ip' successfully set to '\"10.28.0.98\"' for component 'agents-ppo'\n",
      "Parameter 'algorithm' successfully set to '\"agents.ppo.PPOAlgorithm\"' for component 'agents-ppo'\n",
      "Parameter 'network' successfully set to '\"agents.scripts.networks.feed_forward_gaussian\"' for component 'agents-ppo'\n",
      "Parameter 'job_tag' successfully set to '\"a9bd0dee\"' for component 'agents-ppo'\n",
      "Parameter 'logdir' successfully set to '\"gs://kubeflow-rl-kf/jobs/kuka-a9bd0dee\"' for component 'agents-ppo'\n",
      "Parameter 'name' successfully set to '\"kuka-a9bd0dee\"' for component 'agents-ppo'\n",
      "Parameter 'image' successfully set to '\"gcr.io/kubeflow-rl/agents-ppo:cpu-6ea29f81\"' for component 'agents-ppo'\n",
      "Updating tfjobs rl.kuka-a9bd0dee\n",
      "Creating non-existent tfjobs rl.kuka-a9bd0dee\n"
     ]
    }
   ],
   "source": [
    "%%bash\n",
    "\n",
    "get_project_id() {\n",
    "  project=$(gcloud config get-value project 2> /dev/null)\n",
    "  if [[ -z \"$project\" ]]; then\n",
    "      >&2 echo \"Couldn't load a gcloud project ID!\"\n",
    "  fi\n",
    "  echo \"$project\"\n",
    "}\n",
    "\n",
    "cd ../../../rl-app\n",
    "\n",
    "\n",
    "HPARAM_ID=kuka\n",
    "\n",
    "JOB_SALT=`date | shasum -a 256 | cut -c1-8`\n",
    "JOB_NAME=`echo ${HPARAM_ID}-${JOB_SALT} | tr '_' '-'`\n",
    "LOG_DIR=gs://$(get_project_id)-kf/jobs/${JOB_NAME}\n",
    "\n",
    "# 1.4.1, agents propper, MTS, periodic render messages\n",
    "IMAGE=gcr.io/kubeflow-rl/agents-ppo:cpu-6ea29f81\n",
    "\n",
    "ks param set agents-ppo env \"KukaBulletEnv-v0\"\n",
    "\n",
    "ks param set agents-ppo run_mode train\n",
    "ks param set agents-ppo gcp_project kubeflow-rl\n",
    "ks param set agents-ppo num_cpu 1\n",
    "ks param set agents-ppo num_agents 1\n",
    "ks param set agents-ppo sync_replicas False\n",
    "ks param set agents-ppo steps 1000\n",
    "\n",
    "# Trigger an async render job every 10 seconds (for demo)\n",
    "ks param set agents-ppo render_secs 10\n",
    "ks param set agents-ppo fission_router_ip \"10.28.0.98\"\n",
    "\n",
    "ks param set agents-ppo algorithm \"agents.ppo.PPOAlgorithm\"\n",
    "ks param set agents-ppo network \"agents.scripts.networks.feed_forward_gaussian\"\n",
    "\n",
    "ks param set agents-ppo job_tag ${JOB_SALT}\n",
    "ks param set agents-ppo logdir ${LOG_DIR}\n",
    "ks param set agents-ppo name ${JOB_NAME}\n",
    "ks param set agents-ppo image ${IMAGE}\n",
    "\n",
    "ks apply gke -c agents-ppo"
   ]
  },
  {
   "cell_type": "code",
   "execution_count": 192,
   "metadata": {},
   "outputs": [
    {
     "name": "stdout",
     "output_type": "stream",
     "text": [
      "NAME                                READY     STATUS    RESTARTS   AGE\n",
      "kuka-a9bd0dee-master-rf93-0-pxp97   1/1       Running   0          51s\n",
      "ubuntu                              1/1       Running   0          1h\n"
     ]
    }
   ],
   "source": [
    "%%bash\n",
    "kubectl get pods -n rl"
   ]
  },
  {
   "cell_type": "markdown",
   "metadata": {},
   "source": [
    "Note that in the following elasped time increments by render_secs"
   ]
  },
  {
   "cell_type": "code",
   "execution_count": 195,
   "metadata": {},
   "outputs": [
    {
     "name": "stdout",
     "output_type": "stream",
     "text": [
      "INFO:tensorflow:Start a new run and write summaries and checkpoints to gs://kubeflow-rl-kf/jobs/kuka-a9bd0dee.\n",
      "2018-01-23 21:09:47.178438: I tensorflow/core/platform/cpu_feature_guard.cc:137] Your CPU supports instructions that this TensorFlow binary was not compiled to use: SSE4.1 SSE4.2 AVX AVX2 FMA\n",
      "E0123 21:09:47.248892495       1 ev_epoll1_linux.c:1051]     grpc epoll fd: 3\n",
      "2018-01-23 21:09:47.258648: I tensorflow/core/distributed_runtime/rpc/grpc_channel.cc:215] Initialize GrpcChannelCache for job master -> {0 -> localhost:2222}\n",
      "2018-01-23 21:09:47.262287: I tensorflow/core/distributed_runtime/rpc/grpc_server_lib.cc:324] Started server with target: grpc://localhost:2222\n",
      "{'algorithm': <class 'agents.ppo.algorithm.PPOAlgorithm'>,\n",
      " 'debug': True,\n",
      " 'discount': 0.995,\n",
      " 'dump_dependency_versions': False,\n",
      " 'env': 'KukaBulletEnv-v0',\n",
      " 'env_processes': True,\n",
      " 'eval_episodes': 25,\n",
      " 'fission_router_ip': '10.28.0.98',\n",
      " 'hparam_set_id': 'pybullet_kuka_ff',\n",
      " 'init_logstd': -1,\n",
      " 'init_mean_factor': 0.1,\n",
      " 'kl_cutoff_coef': 1000,\n",
      " 'kl_cutoff_factor': 2,\n",
      " 'kl_init_penalty': 1,\n",
      " 'kl_target': 0.01,\n",
      " 'learning_rate': 0.0001,\n",
      " 'log_device_placement': False,\n",
      " 'logdir': 'gs://kubeflow-rl-kf/jobs/kuka-a9bd0dee',\n",
      " 'max_length': 1000,\n",
      " 'network': <function feed_forward_gaussian at 0x7f14bf632b18>,\n",
      " 'num_agents': 1,\n",
      " 'num_gpus': 0,\n",
      " 'optimizer': <class 'tensorflow.python.training.adam.AdamOptimizer'>,\n",
      " 'policy_layers': (200, 100),\n",
      " 'render_secs': 10,\n",
      " 'run_base_tag': '0e90193e',\n",
      " 'run_mode': 'train',\n",
      " 'save_checkpoint_secs': 600,\n",
      " 'steps': 1000,\n",
      " 'sync_replicas': False,\n",
      " 'update_epochs': 25,\n",
      " 'update_every': 30,\n",
      " 'use_gpu': False,\n",
      " 'use_monitored_training_session': True,\n",
      " 'value_layers': (200, 100),\n",
      " 'weight_summaries': {'all': '.*',\n",
      "                      'policy': '.*/policy/.*',\n",
      "                      'value': '.*/value/.*'}}\n",
      "INFO:tensorflow:Graph contains 44607 trainable variables.\n",
      "INFO:tensorflow:Create CheckpointSaverHook.\n",
      "2018-01-23 21:10:01.154646: I tensorflow/core/distributed_runtime/master_session.cc:1004] Start master session 4df9f18b8ca43aac with config: gpu_options { allow_growth: true } allow_soft_placement: true\n",
      "INFO:tensorflow:Saving checkpoints for 0 into gs://kubeflow-rl-kf/jobs/kuka-a9bd0dee/model.ckpt.\n",
      "INFO:tensorflow:\n",
      "--------------------------------------------------\n",
      "Phase train (phase step 0, global step 0).\n",
      "INFO:tensorflow:Triggering render number 1.\n",
      "INFO:tensorflow:Render trigger manifest: {'args': {'render_count': 1, 'meta': {'elapsed_time': 10.001614093780518, 'global_step': 716}, 'log_dir': 'gs://kubeflow-rl-kf/jobs/kuka-a9bd0dee'}, 'job_type': 'render'}\n",
      "INFO:tensorflow:Triggering render number 2.\n",
      "INFO:tensorflow:Render trigger manifest: {'args': {'render_count': 2, 'meta': {'elapsed_time': 20.00567102432251, 'global_step': 1497}, 'log_dir': 'gs://kubeflow-rl-kf/jobs/kuka-a9bd0dee'}, 'job_type': 'render'}\n",
      "INFO:tensorflow:Saving checkpoints for 1833 into gs://kubeflow-rl-kf/jobs/kuka-a9bd0dee/model.ckpt.\n",
      "INFO:tensorflow:Run complete, closing batch environments.\n",
      "pybullet build time: Jan 18 2018 17:23:14\n",
      "current_dir=/usr/local/lib/python2.7/dist-packages/pybullet_envs/bullet\n",
      "current_dir=/usr/local/lib/python2.7/dist-packages/pybullet_envs/bullet\n"
     ]
    }
   ],
   "source": [
    "%%bash\n",
    "kubectl logs kuka-a9bd0dee-master-rf93-0-pxp97 -n rl"
   ]
  },
  {
   "cell_type": "markdown",
   "metadata": {},
   "source": [
    "Actually trigger jobs?"
   ]
  },
  {
   "cell_type": "code",
   "execution_count": 18,
   "metadata": {},
   "outputs": [
    {
     "name": "stderr",
     "output_type": "stream",
     "text": [
      "Parameter 'env' successfully set to '\"KukaBulletEnv-v0\"' for component 'agents-ppo'\n",
      "Parameter 'run_mode' successfully set to '\"train\"' for component 'agents-ppo'\n",
      "Parameter 'gcp_project' successfully set to '\"kubeflow-rl\"' for component 'agents-ppo'\n",
      "Parameter 'num_cpu' successfully set to '1' for component 'agents-ppo'\n",
      "Parameter 'num_agents' successfully set to '1' for component 'agents-ppo'\n",
      "Parameter 'sync_replicas' successfully set to '\"False\"' for component 'agents-ppo'\n",
      "Parameter 'steps' successfully set to '1000' for component 'agents-ppo'\n",
      "Parameter 'render_secs' successfully set to '10' for component 'agents-ppo'\n",
      "Parameter 'fission_router_ip' successfully set to '\"10.28.0.98\"' for component 'agents-ppo'\n",
      "Parameter 'algorithm' successfully set to '\"agents.ppo.PPOAlgorithm\"' for component 'agents-ppo'\n",
      "Parameter 'network' successfully set to '\"agents.scripts.networks.feed_forward_gaussian\"' for component 'agents-ppo'\n",
      "Parameter 'job_tag' successfully set to '\"355e5095\"' for component 'agents-ppo'\n",
      "Parameter 'logdir' successfully set to '\"gs://kubeflow-rl-kf/jobs/kuka-355e5095\"' for component 'agents-ppo'\n",
      "Parameter 'name' successfully set to '\"kuka-355e5095\"' for component 'agents-ppo'\n",
      "Parameter 'image' successfully set to '\"gcr.io/kubeflow-rl/agents-ppo:cpu-df1d364a\"' for component 'agents-ppo'\n",
      "Updating tfjobs rl.kuka-355e5095\n",
      "Creating non-existent tfjobs rl.kuka-355e5095\n"
     ]
    }
   ],
   "source": [
    "\n",
    "%%bash\n",
    "\n",
    "get_project_id() {\n",
    "  project=$(gcloud config get-value project 2> /dev/null)\n",
    "  if [[ -z \"$project\" ]]; then\n",
    "      >&2 echo \"Couldn't load a gcloud project ID!\"\n",
    "  fi\n",
    "  echo \"$project\"\n",
    "}\n",
    "\n",
    "cd ../../../rl-app\n",
    "\n",
    "\n",
    "HPARAM_ID=kuka\n",
    "\n",
    "JOB_SALT=`date | shasum -a 256 | cut -c1-8`\n",
    "JOB_NAME=`echo ${HPARAM_ID}-${JOB_SALT} | tr '_' '-'`\n",
    "LOG_DIR=gs://$(get_project_id)-kf/jobs/${JOB_NAME}\n",
    "\n",
    "# 1.4.1, agents propper, MTS, periodic render messages\n",
    "IMAGE=gcr.io/kubeflow-rl/agents-ppo:cpu-df1d364a\n",
    "\n",
    "ks param set agents-ppo env \"KukaBulletEnv-v0\"\n",
    "\n",
    "ks param set agents-ppo run_mode train\n",
    "ks param set agents-ppo gcp_project kubeflow-rl\n",
    "ks param set agents-ppo num_cpu 1\n",
    "ks param set agents-ppo num_agents 1\n",
    "ks param set agents-ppo sync_replicas False\n",
    "ks param set agents-ppo steps 1000\n",
    "\n",
    "# Trigger an async render job every 10 seconds (for demo)\n",
    "ks param set agents-ppo render_secs 10\n",
    "\n",
    "ks param set agents-ppo fission_router_ip \"10.28.0.98\"\n",
    "\n",
    "ks param set agents-ppo algorithm \"agents.ppo.PPOAlgorithm\"\n",
    "ks param set agents-ppo network \"agents.scripts.networks.feed_forward_gaussian\"\n",
    "\n",
    "ks param set agents-ppo job_tag ${JOB_SALT}\n",
    "ks param set agents-ppo logdir ${LOG_DIR}\n",
    "ks param set agents-ppo name ${JOB_NAME}\n",
    "ks param set agents-ppo image ${IMAGE}\n",
    "\n",
    "ks apply gke -c agents-ppo"
   ]
  },
  {
   "cell_type": "code",
   "execution_count": 21,
   "metadata": {},
   "outputs": [
    {
     "name": "stdout",
     "output_type": "stream",
     "text": [
      "NAME      READY     STATUS    RESTARTS   AGE\n",
      "ubuntu    1/1       Running   0          3h\n"
     ]
    }
   ],
   "source": [
    "%%bash\n",
    "kubectl get pods -n rl"
   ]
  },
  {
   "cell_type": "code",
   "execution_count": 22,
   "metadata": {},
   "outputs": [
    {
     "name": "stdout",
     "output_type": "stream",
     "text": [
      "INFO:tensorflow:Start a new run and write summaries and checkpoints to gs://kubeflow-rl-kf/jobs/kuka-355e5095.\n",
      "2018-01-23 23:07:07.389503: I tensorflow/core/platform/cpu_feature_guard.cc:137] Your CPU supports instructions that this TensorFlow binary was not compiled to use: SSE4.1 SSE4.2 AVX AVX2 FMA\n",
      "E0123 23:07:07.412911008       1 ev_epoll1_linux.c:1051]     grpc epoll fd: 3\n",
      "2018-01-23 23:07:07.422978: I tensorflow/core/distributed_runtime/rpc/grpc_channel.cc:215] Initialize GrpcChannelCache for job master -> {0 -> localhost:2222}\n",
      "2018-01-23 23:07:07.426076: I tensorflow/core/distributed_runtime/rpc/grpc_server_lib.cc:324] Started server with target: grpc://localhost:2222\n",
      "{'algorithm': <class 'agents.ppo.algorithm.PPOAlgorithm'>,\n",
      " 'debug': True,\n",
      " 'discount': 0.995,\n",
      " 'dump_dependency_versions': False,\n",
      " 'env': 'KukaBulletEnv-v0',\n",
      " 'env_processes': True,\n",
      " 'eval_episodes': 25,\n",
      " 'hparam_set_id': 'pybullet_kuka_ff',\n",
      " 'init_logstd': -1,\n",
      " 'init_mean_factor': 0.1,\n",
      " 'kl_cutoff_coef': 1000,\n",
      " 'kl_cutoff_factor': 2,\n",
      " 'kl_init_penalty': 1,\n",
      " 'kl_target': 0.01,\n",
      " 'learning_rate': 0.0001,\n",
      " 'log_device_placement': False,\n",
      " 'logdir': 'gs://kubeflow-rl-kf/jobs/kuka-355e5095',\n",
      " 'max_length': 1000,\n",
      " 'network': <function feed_forward_gaussian at 0x7f202a572b18>,\n",
      " 'num_agents': 1,\n",
      " 'num_gpus': 0,\n",
      " 'optimizer': <class 'tensorflow.python.training.adam.AdamOptimizer'>,\n",
      " 'policy_layers': (200, 100),\n",
      " 'render_secs': 10,\n",
      " 'run_base_tag': '0e90193e',\n",
      " 'run_mode': 'train',\n",
      " 'save_checkpoint_secs': 600,\n",
      " 'steps': 1000,\n",
      " 'sync_replicas': False,\n",
      " 'update_epochs': 25,\n",
      " 'update_every': 30,\n",
      " 'use_gpu': False,\n",
      " 'use_monitored_training_session': True,\n",
      " 'value_layers': (200, 100),\n",
      " 'weight_summaries': {'all': '.*',\n",
      "                      'policy': '.*/policy/.*',\n",
      "                      'value': '.*/value/.*'}}\n",
      "INFO:tensorflow:Graph contains 44607 trainable variables.\n",
      "INFO:tensorflow:Create CheckpointSaverHook.\n",
      "2018-01-23 23:07:22.766973: I tensorflow/core/distributed_runtime/master_session.cc:1004] Start master session 721ea7df490b36b1 with config: gpu_options { allow_growth: true } allow_soft_placement: true\n",
      "INFO:tensorflow:Saving checkpoints for 0 into gs://kubeflow-rl-kf/jobs/kuka-355e5095/model.ckpt.\n",
      "INFO:tensorflow:\n",
      "--------------------------------------------------\n",
      "Phase train (phase step 0, global step 0).\n",
      "INFO:tensorflow:Triggering render number 1.\n",
      "INFO:tensorflow:Render trigger manifest: {'args': {'render_count': 1, 'meta': {'elapsed_time': 10.006993055343628, 'global_step': 660}, 'log_dir': 'gs://kubeflow-rl-kf/jobs/kuka-355e5095'}, 'job_type': 'render'}\n",
      "INFO:tensorflow:Triggering render number 2.\n",
      "INFO:tensorflow:Render trigger manifest: {'args': {'render_count': 2, 'meta': {'elapsed_time': 20.008601188659668, 'global_step': 1384}, 'log_dir': 'gs://kubeflow-rl-kf/jobs/kuka-355e5095'}, 'job_type': 'render'}\n",
      "INFO:tensorflow:Saving checkpoints for 1833 into gs://kubeflow-rl-kf/jobs/kuka-355e5095/model.ckpt.\n",
      "INFO:tensorflow:Run complete, closing batch environments.\n",
      "pybullet build time: Jan 18 2018 17:23:14\n",
      "current_dir=/usr/local/lib/python2.7/dist-packages/pybullet_envs/bullet\n",
      "current_dir=/usr/local/lib/python2.7/dist-packages/pybullet_envs/bullet\n"
     ]
    }
   ],
   "source": [
    "%%bash\n",
    "kubectl logs kuka-355e5095-master-xozz-0-mnxn5 -n rl"
   ]
  },
  {
   "cell_type": "code",
   "execution_count": 23,
   "metadata": {},
   "outputs": [
    {
     "name": "stdout",
     "output_type": "stream",
     "text": [
      "NAME                          DESIRED   SUCCESSFUL   AGE\n",
      "kuka-355e5095-master-xozz-0   1         1            2m\n"
     ]
    }
   ],
   "source": [
    "%%bash\n",
    "kubectl get jobs -n rl"
   ]
  },
  {
   "cell_type": "code",
   "execution_count": 94,
   "metadata": {},
   "outputs": [
    {
     "name": "stdout",
     "output_type": "stream",
     "text": [
      "tfjob \"kuka-0123-1549-272b\" deleted\n",
      "job \"kuka-46613b75-render-2\" deleted\n"
     ]
    }
   ],
   "source": [
    "%%bash\n",
    "kubectl delete tfjobs --all -n rl \n",
    "kubectl delete jobs --all -n rl "
   ]
  },
  {
   "cell_type": "markdown",
   "metadata": {},
   "source": [
    "Now, lets have the training job actually submit render jobs each time that hook is triggered."
   ]
  },
  {
   "cell_type": "code",
   "execution_count": 77,
   "metadata": {},
   "outputs": [
    {
     "name": "stderr",
     "output_type": "stream",
     "text": [
      "No resources found.\n"
     ]
    }
   ],
   "source": [
    "%%bash\n",
    "kubectl get jobs -n rl"
   ]
  },
  {
   "cell_type": "code",
   "execution_count": 82,
   "metadata": {},
   "outputs": [
    {
     "name": "stdout",
     "output_type": "stream",
     "text": [
      "0123-1541-4a69\n",
      "kuka-0123-1541-4a69\n",
      "gs://kubeflow-rl-kf/jobs/kuka-0123-1541-4a69\n",
      "gcr.io/kubeflow-rl/agents-ppo:cpu-35b72200\n",
      "\u001b[34mINFO  \u001b[0mParameter 'env' successfully set to '\"KukaBulletEnv-v0\"' for component 'agents-ppo'\n",
      "\u001b[34mINFO  \u001b[0mParameter 'run_mode' successfully set to '\"train\"' for component 'agents-ppo'\n",
      "\u001b[34mINFO  \u001b[0mParameter 'gcp_project' successfully set to '\"kubeflow-rl\"' for component 'agents-ppo'\n",
      "\u001b[34mINFO  \u001b[0mParameter 'num_cpu' successfully set to '1' for component 'agents-ppo'\n",
      "\u001b[34mINFO  \u001b[0mParameter 'num_agents' successfully set to '1' for component 'agents-ppo'\n",
      "\u001b[34mINFO  \u001b[0mParameter 'sync_replicas' successfully set to '\"False\"' for component 'agents-ppo'\n",
      "\u001b[34mINFO  \u001b[0mParameter 'steps' successfully set to '1000' for component 'agents-ppo'\n",
      "\u001b[34mINFO  \u001b[0mParameter 'render_secs' successfully set to '10' for component 'agents-ppo'\n",
      "\u001b[34mINFO  \u001b[0mParameter 'fission_router_ip' successfully set to '\"10.28.0.98\"' for component 'agents-ppo'\n",
      "\u001b[34mINFO  \u001b[0mParameter 'algorithm' successfully set to '\"agents.ppo.PPOAlgorithm\"' for component 'agents-ppo'\n",
      "\u001b[34mINFO  \u001b[0mParameter 'network' successfully set to '\"agents.scripts.networks.feed_forward_gaussian\"' for component 'agents-ppo'\n",
      "\u001b[34mINFO  \u001b[0mParameter 'job_tag' successfully set to '\"0123-1541-4a69\"' for component 'agents-ppo'\n",
      "\u001b[34mINFO  \u001b[0mParameter 'logdir' successfully set to '\"gs://kubeflow-rl-kf/jobs/kuka-0123-1541-4a69\"' for component 'agents-ppo'\n",
      "\u001b[34mINFO  \u001b[0mParameter 'name' successfully set to '\"kuka-0123-1541-4a69\"' for component 'agents-ppo'\n",
      "\u001b[34mINFO  \u001b[0mParameter 'image' successfully set to '\"gcr.io/kubeflow-rl/agents-ppo:cpu-35b72200\"' for component 'agents-ppo'\n",
      "\u001b[34mINFO  \u001b[0mUpdating tfjobs rl.kuka-0123-1541-4a69\n",
      "\u001b[34mINFO  \u001b[0mCreating non-existent tfjobs rl.kuka-0123-1541-4a69\n"
     ]
    }
   ],
   "source": [
    "import datetime\n",
    "import uuid\n",
    "import os\n",
    "\n",
    "os.chdir(os.path.join(ROOT_DIR, \"rl-app\"))\n",
    "\n",
    "HPARAM_SET=\"kuka\"\n",
    "\n",
    "now=datetime.datetime.now()\n",
    "\n",
    "JOB_SALT=now.strftime(\"%m%d-%H%M\") + \"-\" + uuid.uuid4().hex[0:4]\n",
    "JOB_NAME=HPARAM_SET + \"-\" + JOB_SALT\n",
    "LOG_DIR=\"gs://{0}/jobs/{1}\".format(BUCKET, JOB_NAME)\n",
    "\n",
    "IMAGE=\"gcr.io/kubeflow-rl/agents-ppo:cpu-35b72200\"\n",
    "\n",
    "print(JOB_SALT)\n",
    "print(JOB_NAME)\n",
    "print(LOG_DIR)\n",
    "print(IMAGE)\n",
    "\n",
    "!ks param set agents-ppo env \"KukaBulletEnv-v0\"\n",
    "\n",
    "!ks param set agents-ppo run_mode train\n",
    "!ks param set agents-ppo gcp_project kubeflow-rl\n",
    "!ks param set agents-ppo num_cpu 1\n",
    "!ks param set agents-ppo num_agents 1\n",
    "!ks param set agents-ppo sync_replicas False\n",
    "!ks param set agents-ppo steps 1000\n",
    "\n",
    "# Trigger an async render job every 10 seconds (for demo)\n",
    "!ks param set agents-ppo render_secs 10\n",
    "\n",
    "!ks param set agents-ppo fission_router_ip \"10.28.0.98\"\n",
    "\n",
    "!ks param set agents-ppo algorithm \"agents.ppo.PPOAlgorithm\"\n",
    "!ks param set agents-ppo network \"agents.scripts.networks.feed_forward_gaussian\"\n",
    "\n",
    "!ks param set agents-ppo job_tag {JOB_SALT}\n",
    "!ks param set agents-ppo logdir {LOG_DIR}\n",
    "!ks param set agents-ppo name {JOB_NAME}\n",
    "!ks param set agents-ppo image {IMAGE}\n",
    "\n",
    "!ks apply gke -c agents-ppo"
   ]
  },
  {
   "cell_type": "code",
   "execution_count": 83,
   "metadata": {},
   "outputs": [
    {
     "name": "stdout",
     "output_type": "stream",
     "text": [
      "NAME                                      READY     STATUS    RESTARTS   AGE\n",
      "kuka-0123-1541-4a69-master-6nff-0-krr5h   1/1       Running   0          14s\n",
      "ubuntu                                    1/1       Running   0          4h\n"
     ]
    }
   ],
   "source": [
    "%%bash\n",
    "kubectl get pods -n rl"
   ]
  },
  {
   "cell_type": "code",
   "execution_count": 89,
   "metadata": {},
   "outputs": [
    {
     "name": "stdout",
     "output_type": "stream",
     "text": [
      "INFO:tensorflow:Start a new run and write summaries and checkpoints to gs://kubeflow-rl-kf/jobs/kuka-0123-1541-4a69.\r\n",
      "2018-01-23 23:41:58.461261: I tensorflow/core/platform/cpu_feature_guard.cc:137] Your CPU supports instructions that this TensorFlow binary was not compiled to use: SSE4.1 SSE4.2 AVX AVX2 FMA\r\n",
      "E0123 23:41:58.549969808       1 ev_epoll1_linux.c:1051]     grpc epoll fd: 3\r\n",
      "2018-01-23 23:41:58.559454: I tensorflow/core/distributed_runtime/rpc/grpc_channel.cc:215] Initialize GrpcChannelCache for job master -> {0 -> localhost:2222}\r\n",
      "2018-01-23 23:41:58.562608: I tensorflow/core/distributed_runtime/rpc/grpc_server_lib.cc:324] Started server with target: grpc://localhost:2222\r\n",
      "{'algorithm': <class 'agents.ppo.algorithm.PPOAlgorithm'>,\r\n",
      " 'debug': True,\r\n",
      " 'discount': 0.995,\r\n",
      " 'dump_dependency_versions': False,\r\n",
      " 'env': 'KukaBulletEnv-v0',\r\n",
      " 'env_processes': True,\r\n",
      " 'eval_episodes': 25,\r\n",
      " 'fission_router_ip': '10.28.0.98',\r\n",
      " 'hparam_set_id': 'pybullet_kuka_ff',\r\n",
      " 'init_logstd': -1,\r\n",
      " 'init_mean_factor': 0.1,\r\n",
      " 'kl_cutoff_coef': 1000,\r\n",
      " 'kl_cutoff_factor': 2,\r\n",
      " 'kl_init_penalty': 1,\r\n",
      " 'kl_target': 0.01,\r\n",
      " 'learning_rate': 0.0001,\r\n",
      " 'log_device_placement': False,\r\n",
      " 'logdir': 'gs://kubeflow-rl-kf/jobs/kuka-0123-1541-4a69',\r\n",
      " 'max_length': 1000,\r\n",
      " 'network': <function feed_forward_gaussian at 0x7f9e79973b18>,\r\n",
      " 'num_agents': 1,\r\n",
      " 'num_gpus': 0,\r\n",
      " 'optimizer': <class 'tensorflow.python.training.adam.AdamOptimizer'>,\r\n",
      " 'policy_layers': (200, 100),\r\n",
      " 'render_secs': 10,\r\n",
      " 'run_base_tag': '0e90193e',\r\n",
      " 'run_mode': 'train',\r\n",
      " 'save_checkpoint_secs': 600,\r\n",
      " 'steps': 1000,\r\n",
      " 'sync_replicas': False,\r\n",
      " 'update_epochs': 25,\r\n",
      " 'update_every': 30,\r\n",
      " 'use_gpu': False,\r\n",
      " 'use_monitored_training_session': True,\r\n",
      " 'value_layers': (200, 100),\r\n",
      " 'weight_summaries': {'all': '.*',\r\n",
      "                      'policy': '.*/policy/.*',\r\n",
      "                      'value': '.*/value/.*'}}\r\n",
      "INFO:tensorflow:Graph contains 44607 trainable variables.\r\n",
      "INFO:tensorflow:Create CheckpointSaverHook.\r\n",
      "2018-01-23 23:42:12.344412: I tensorflow/core/distributed_runtime/master_session.cc:1004] Start master session dcf0722546dd318d with config: gpu_options { allow_growth: true } allow_soft_placement: true\r\n",
      "INFO:tensorflow:Saving checkpoints for 0 into gs://kubeflow-rl-kf/jobs/kuka-0123-1541-4a69/model.ckpt.\r\n",
      "INFO:tensorflow:\r\n",
      "--------------------------------------------------\r\n",
      "Phase train (phase step 0, global step 0).\r\n",
      "INFO:tensorflow:Triggering render number 1.\r\n",
      "INFO:tensorflow:Render trigger manifest: {'args': {'render_count': 1, 'meta': {'elapsed_time': 10.003545999526978, 'global_step': 844}, 'log_dir': 'gs://kubeflow-rl-kf/jobs/kuka-0123-1541-4a69'}, 'job_type': 'render'}\r\n",
      "INFO:tensorflow:Dialing Fission router at IP 10.28.0.98...\r\n",
      "INFO:tensorflow:Request address: http://10.28.0.98:8888/job-trigger-render-events\r\n",
      "INFO:tensorflow:issuing request with manifest: {'args': {'render_count': 1, 'meta': {'elapsed_time': 10.003545999526978, 'global_step': 844}, 'log_dir': 'gs://kubeflow-rl-kf/jobs/kuka-0123-1541-4a69'}, 'job_type': 'render'}\r\n",
      "INFO:tensorflow:Issued request and received response: 200\r\n"
     ]
    }
   ],
   "source": [
    "!kubectl logs kuka-0123-1541-4a69-master-6nff-0-krr5h -n rl"
   ]
  },
  {
   "cell_type": "code",
   "execution_count": 90,
   "metadata": {},
   "outputs": [
    {
     "name": "stdout",
     "output_type": "stream",
     "text": [
      "NAME                                DESIRED   SUCCESSFUL   AGE\r\n",
      "kuka-0123-1541-4a69-master-6nff-0   1         0            52s\r\n",
      "kuka-0123-1541-4a69-render-1        1         0            12s\r\n",
      "kuka-0123-1541-4a69-render-2        1         0            3s\r\n"
     ]
    }
   ],
   "source": [
    "!kubectl get jobs -n rl"
   ]
  },
  {
   "cell_type": "markdown",
   "metadata": {},
   "source": [
    "Cool! 🎉🎉🎉\n",
    "\n",
    "We have the option here of triggering renders based on time, checkpoint number, or integrating with the CheckpointSaverHook to trigger renders each time a checkpoint is written which will allow us to only render when there are new parameters available to be used in a render. (probably the right way to go!)\n",
    "\n",
    "Also it's debatable whether you would want to trigger renders over HTTP instead of directly from the training job but after experimenting with this I'm leaning strongly towards the latter."
   ]
  },
  {
   "cell_type": "markdown",
   "metadata": {},
   "source": [
    "#### Long training run with reasonable render periodicity"
   ]
  },
  {
   "cell_type": "markdown",
   "metadata": {},
   "source": [
    "Lets try a long training run where renders are produced every 10 minutes (the same periodicity of our checkpoint writes)."
   ]
  },
  {
   "cell_type": "code",
   "execution_count": 96,
   "metadata": {},
   "outputs": [
    {
     "name": "stdout",
     "output_type": "stream",
     "text": [
      "0123-1611-753a\n",
      "kuka-0123-1611-753a\n",
      "gs://kubeflow-rl-kf/jobs/kuka-0123-1611-753a\n",
      "gcr.io/kubeflow-rl/agents-ppo:cpu-256e4ec7\n",
      "\u001b[34mINFO  \u001b[0mParameter 'env' successfully set to '\"KukaBulletEnv-v0\"' for component 'agents-ppo'\n",
      "\u001b[34mINFO  \u001b[0mParameter 'run_mode' successfully set to '\"train\"' for component 'agents-ppo'\n",
      "\u001b[34mINFO  \u001b[0mParameter 'gcp_project' successfully set to '\"kubeflow-rl\"' for component 'agents-ppo'\n",
      "\u001b[34mINFO  \u001b[0mParameter 'num_cpu' successfully set to '31' for component 'agents-ppo'\n",
      "\u001b[34mINFO  \u001b[0mParameter 'num_agents' successfully set to '30' for component 'agents-ppo'\n",
      "\u001b[34mINFO  \u001b[0mParameter 'sync_replicas' successfully set to '\"False\"' for component 'agents-ppo'\n",
      "\u001b[34mINFO  \u001b[0mParameter 'steps' successfully set to '4e7' for component 'agents-ppo'\n",
      "\u001b[34mINFO  \u001b[0mParameter 'render_secs' successfully set to '610' for component 'agents-ppo'\n",
      "\u001b[34mINFO  \u001b[0mParameter 'fission_router_ip' successfully set to '\"10.28.0.98\"' for component 'agents-ppo'\n",
      "\u001b[34mINFO  \u001b[0mParameter 'algorithm' successfully set to '\"agents.ppo.PPOAlgorithm\"' for component 'agents-ppo'\n",
      "\u001b[34mINFO  \u001b[0mParameter 'network' successfully set to '\"agents.scripts.networks.feed_forward_gaussian\"' for component 'agents-ppo'\n",
      "\u001b[34mINFO  \u001b[0mParameter 'job_tag' successfully set to '\"0123-1611-753a\"' for component 'agents-ppo'\n",
      "\u001b[34mINFO  \u001b[0mParameter 'logdir' successfully set to '\"gs://kubeflow-rl-kf/jobs/kuka-0123-1611-753a\"' for component 'agents-ppo'\n",
      "\u001b[34mINFO  \u001b[0mParameter 'name' successfully set to '\"kuka-0123-1611-753a\"' for component 'agents-ppo'\n",
      "\u001b[34mINFO  \u001b[0mParameter 'image' successfully set to '\"gcr.io/kubeflow-rl/agents-ppo:cpu-256e4ec7\"' for component 'agents-ppo'\n",
      "\u001b[34mINFO  \u001b[0mUpdating tfjobs rl.kuka-0123-1611-753a\n",
      "\u001b[34mINFO  \u001b[0mCreating non-existent tfjobs rl.kuka-0123-1611-753a\n"
     ]
    }
   ],
   "source": [
    "import datetime\n",
    "import uuid\n",
    "import os\n",
    "\n",
    "os.chdir(os.path.join(ROOT_DIR, \"rl-app\"))\n",
    "\n",
    "HPARAM_SET=\"kuka\"\n",
    "\n",
    "now=datetime.datetime.now()\n",
    "\n",
    "JOB_SALT=now.strftime(\"%m%d-%H%M\") + \"-\" + uuid.uuid4().hex[0:4]\n",
    "JOB_NAME=HPARAM_SET + \"-\" + JOB_SALT\n",
    "LOG_DIR=\"gs://{0}/jobs/{1}\".format(BUCKET, JOB_NAME)\n",
    "\n",
    "IMAGE=\"gcr.io/kubeflow-rl/agents-ppo:cpu-256e4ec7\"\n",
    "\n",
    "print(JOB_SALT)\n",
    "print(JOB_NAME)\n",
    "print(LOG_DIR)\n",
    "print(IMAGE)\n",
    "\n",
    "!ks param set agents-ppo env \"KukaBulletEnv-v0\"\n",
    "\n",
    "!ks param set agents-ppo run_mode train\n",
    "!ks param set agents-ppo gcp_project kubeflow-rl\n",
    "!ks param set agents-ppo num_cpu 31\n",
    "!ks param set agents-ppo num_agents 30\n",
    "!ks param set agents-ppo sync_replicas False\n",
    "!ks param set agents-ppo steps 4e7\n",
    "\n",
    "# Trigger an async render job every 10 seconds (for demo)\n",
    "!ks param set agents-ppo render_secs 610\n",
    "\n",
    "!ks param set agents-ppo fission_router_ip \"10.28.0.98\"\n",
    "\n",
    "!ks param set agents-ppo algorithm \"agents.ppo.PPOAlgorithm\"\n",
    "!ks param set agents-ppo network \"agents.scripts.networks.feed_forward_gaussian\"\n",
    "\n",
    "!ks param set agents-ppo job_tag {JOB_SALT}\n",
    "!ks param set agents-ppo logdir {LOG_DIR}\n",
    "!ks param set agents-ppo name {JOB_NAME}\n",
    "!ks param set agents-ppo image {IMAGE}\n",
    "\n",
    "!ks apply gke -c agents-ppo"
   ]
  },
  {
   "cell_type": "code",
   "execution_count": 97,
   "metadata": {},
   "outputs": [
    {
     "name": "stdout",
     "output_type": "stream",
     "text": [
      "NAME                                      READY     STATUS    RESTARTS   AGE\r\n",
      "kuka-0123-1611-753a-master-tgry-0-vsz7c   1/1       Running   0          10s\r\n",
      "ubuntu                                    1/1       Running   0          4h\r\n"
     ]
    }
   ],
   "source": [
    "!kubectl get pods -n rl"
   ]
  },
  {
   "cell_type": "code",
   "execution_count": 103,
   "metadata": {},
   "outputs": [
    {
     "name": "stdout",
     "output_type": "stream",
     "text": [
      "INFO:tensorflow:Start a new run and write summaries and checkpoints to gs://kubeflow-rl-kf/jobs/kuka-0123-1611-753a.\r\n",
      "2018-01-24 00:11:54.754763: I tensorflow/core/platform/cpu_feature_guard.cc:137] Your CPU supports instructions that this TensorFlow binary was not compiled to use: SSE4.1 SSE4.2 AVX AVX2 FMA\r\n",
      "E0124 00:11:54.756339511       1 ev_epoll1_linux.c:1051]     grpc epoll fd: 3\r\n",
      "2018-01-24 00:11:54.767196: I tensorflow/core/distributed_runtime/rpc/grpc_channel.cc:215] Initialize GrpcChannelCache for job master -> {0 -> localhost:2222}\r\n",
      "2018-01-24 00:11:54.771314: I tensorflow/core/distributed_runtime/rpc/grpc_server_lib.cc:324] Started server with target: grpc://localhost:2222\r\n",
      "{'algorithm': <class 'agents.ppo.algorithm.PPOAlgorithm'>,\r\n",
      " 'debug': True,\r\n",
      " 'discount': 0.995,\r\n",
      " 'dump_dependency_versions': False,\r\n",
      " 'env': 'KukaBulletEnv-v0',\r\n",
      " 'env_processes': True,\r\n",
      " 'eval_episodes': 25,\r\n",
      " 'fission_router_ip': '10.28.0.98',\r\n",
      " 'hparam_set_id': 'pybullet_kuka_ff',\r\n",
      " 'init_logstd': -1,\r\n",
      " 'init_mean_factor': 0.1,\r\n",
      " 'kl_cutoff_coef': 1000,\r\n",
      " 'kl_cutoff_factor': 2,\r\n",
      " 'kl_init_penalty': 1,\r\n",
      " 'kl_target': 0.01,\r\n",
      " 'learning_rate': 0.0001,\r\n",
      " 'log_device_placement': False,\r\n",
      " 'logdir': 'gs://kubeflow-rl-kf/jobs/kuka-0123-1611-753a',\r\n",
      " 'max_length': 1000,\r\n",
      " 'network': <function feed_forward_gaussian at 0x7fb71bec3b18>,\r\n",
      " 'num_agents': 30,\r\n",
      " 'num_gpus': 0,\r\n",
      " 'optimizer': <class 'tensorflow.python.training.adam.AdamOptimizer'>,\r\n",
      " 'policy_layers': (200, 100),\r\n",
      " 'render_out_dir': None,\r\n",
      " 'render_secs': 610,\r\n",
      " 'run_base_tag': '0e90193e',\r\n",
      " 'run_mode': 'train',\r\n",
      " 'save_checkpoint_secs': 600,\r\n",
      " 'steps': 40000000,\r\n",
      " 'sync_replicas': False,\r\n",
      " 'update_epochs': 25,\r\n",
      " 'update_every': 30,\r\n",
      " 'use_gpu': False,\r\n",
      " 'use_monitored_training_session': True,\r\n",
      " 'value_layers': (200, 100),\r\n",
      " 'weight_summaries': {'all': '.*',\r\n",
      "                      'policy': '.*/policy/.*',\r\n",
      "                      'value': '.*/value/.*'}}\r\n",
      "INFO:tensorflow:Graph contains 44607 trainable variables.\r\n",
      "INFO:tensorflow:Create CheckpointSaverHook.\r\n",
      "2018-01-24 00:12:10.164680: I tensorflow/core/distributed_runtime/master_session.cc:1004] Start master session f3123fdb56203d1b with config: gpu_options { allow_growth: true } allow_soft_placement: true\r\n",
      "INFO:tensorflow:Saving checkpoints for 0 into gs://kubeflow-rl-kf/jobs/kuka-0123-1611-753a/model.ckpt.\r\n",
      "INFO:tensorflow:\r\n",
      "--------------------------------------------------\r\n",
      "Phase train (phase step 0, global step 0).\r\n",
      "INFO:tensorflow:global_step/sec: 339.755\r\n",
      "INFO:tensorflow:global_step/sec: 2195.53\r\n",
      "2018-01-24 00:12:26.231675: I tensorflow/core/kernels/logging_ops.cc:79] return and value: [-0.429424345][0.0483643]\r\n",
      "2018-01-24 00:12:26.232093: I tensorflow/core/kernels/logging_ops.cc:79] normalized advantage: [1.97350182e-05]\r\n",
      "2018-01-24 00:12:28.897837: I tensorflow/core/kernels/logging_ops.cc:79] value loss: [0.790996552]\r\n",
      "2018-01-24 00:12:28.897837: I tensorflow/core/kernels/logging_ops.cc:79] policy loss: [0.287068099]\r\n",
      "2018-01-24 00:12:28.898257: I tensorflow/core/kernels/logging_ops.cc:79] current penalty: [1]\r\n",
      "2018-01-24 00:12:28.910155: I tensorflow/core/kernels/logging_ops.cc:79] kl change: [0.000647204753]\r\n",
      "2018-01-24 00:12:28.910288: I tensorflow/core/kernels/logging_ops.cc:79] decrease penalty [0]\r\n",
      "INFO:tensorflow:global_step/sec: 719.14\r\n",
      "INFO:tensorflow:global_step/sec: 2841.57\r\n",
      "2018-01-24 00:12:32.496214: I tensorflow/core/kernels/logging_ops.cc:79] return and value: [-0.672401845][-0.136021599]\r\n",
      "2018-01-24 00:12:32.496311: I tensorflow/core/kernels/logging_ops.cc:79] normalized advantage: [-7.11568191e-07]\r\n",
      "2018-01-24 00:12:34.836852: I tensorflow/core/kernels/logging_ops.cc:79] policy loss: [0.332842112]\r\n",
      "2018-01-24 00:12:34.836853: I tensorflow/core/kernels/logging_ops.cc:79] value loss: [1.2963382]\r\n",
      "2018-01-24 00:12:34.837111: I tensorflow/core/kernels/logging_ops.cc:79] current penalty: [0.666666687]\r\n",
      "2018-01-24 00:12:34.847491: I tensorflow/core/kernels/logging_ops.cc:79] kl change: [0.00160453236]\r\n",
      "2018-01-24 00:12:34.847617: I tensorflow/core/kernels/logging_ops.cc:79] decrease penalty [0]\r\n",
      "INFO:tensorflow:global_step/sec: 631.683\r\n",
      "INFO:tensorflow:global_step/sec: 3838.34\r\n",
      "2018-01-24 00:12:38.452573: I tensorflow/core/kernels/logging_ops.cc:79] return and value: [-0.822398961][-0.358533204]\r\n",
      "2018-01-24 00:12:38.452733: I tensorflow/core/kernels/logging_ops.cc:79] normalized advantage: [6.746292e-06]\r\n"
     ]
    }
   ],
   "source": [
    "!kubectl logs -n rl kuka-0123-1611-753a-master-tgry-0-vsz7c"
   ]
  },
  {
   "cell_type": "code",
   "execution_count": 107,
   "metadata": {},
   "outputs": [
    {
     "name": "stdout",
     "output_type": "stream",
     "text": [
      "NAME                                DESIRED   SUCCESSFUL   AGE\r\n",
      "kuka-0123-1611-753a-master-tgry-0   1         0            2m\r\n"
     ]
    }
   ],
   "source": [
    "!kubectl get jobs -n rl"
   ]
  },
  {
   "cell_type": "code",
   "execution_count": 108,
   "metadata": {},
   "outputs": [
    {
     "name": "stdout",
     "output_type": "stream",
     "text": [
      "CommandException: One or more URLs matched no objects.\r\n"
     ]
    }
   ],
   "source": [
    "!gsutil ls {LOG_DIR}/render"
   ]
  },
  {
   "cell_type": "markdown",
   "metadata": {},
   "source": [
    "### Status:\n",
    "- Currently finishes without error but renders do not arrive on cloud storage.\n",
    "- Should be rendering to /tmp then uploading render when complete"
   ]
  }
 ],
 "metadata": {
  "kernelspec": {
   "display_name": "Python 2",
   "language": "python",
   "name": "python2"
  },
  "language_info": {
   "codemirror_mode": {
    "name": "ipython",
    "version": 2
   },
   "file_extension": ".py",
   "mimetype": "text/x-python",
   "name": "python",
   "nbconvert_exporter": "python",
   "pygments_lexer": "ipython2",
   "version": "2.7.14"
  }
 },
 "nbformat": 4,
 "nbformat_minor": 2
}
